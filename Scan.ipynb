{
 "cells": [
  {
   "cell_type": "code",
   "execution_count": null,
   "id": "7ff87cc2",
   "metadata": {},
   "outputs": [],
   "source": [
    "!pip install fuzzywuzzy"
   ]
  },
  {
   "cell_type": "code",
   "execution_count": 1,
   "id": "9c643d1c",
   "metadata": {},
   "outputs": [
    {
     "name": "stdout",
     "output_type": "stream",
     "text": [
      "Found match: chardet-3.0.4, Name Similarity: 56, Version Similarity: 100\n"
     ]
    },
    {
     "name": "stderr",
     "output_type": "stream",
     "text": [
      "C:\\ProgramData\\anaconda3\\lib\\site-packages\\fuzzywuzzy\\fuzz.py:11: UserWarning: Using slow pure-python SequenceMatcher. Install python-Levenshtein to remove this warning\n",
      "  warnings.warn('Using slow pure-python SequenceMatcher. Install python-Levenshtein to remove this warning')\n"
     ]
    }
   ],
   "source": [
    "import re\n",
    "from fuzzywuzzy import fuzz\n",
    "\n",
    "def detect_name(lib_name, dir_list):\n",
    "    input_match = re.search(r'([\\w\\s-]+)\\s*(\\d+\\.\\d+(\\.\\d+)*)', lib_name)\n",
    "    if input_match:\n",
    "        input_name = input_match.group(1)\n",
    "        input_version = input_match.group(2)\n",
    "\n",
    "        for string in dir_list:\n",
    "            match = re.search(r'([\\w\\s-]+)\\s*(\\d+\\.\\d+(\\.\\d+)*)', string)\n",
    "            if match:\n",
    "                name = match.group(1)\n",
    "                version = match.group(2)\n",
    "                name_similarity = fuzz.token_sort_ratio(input_name, name)\n",
    "                version_similarity = 100 if input_version == version else 0\n",
    "                if name_similarity >= 80 and version_similarity == 100:\n",
    "                    return string, name_similarity, version_similarity\n",
    "                elif name_similarity >= 70 and version_similarity == 100:\n",
    "                    return string, name_similarity, version_similarity\n",
    "                elif name_similarity >= 60 and version_similarity == 100:\n",
    "                    return string, name_similarity, version_similarity\n",
    "                elif name_similarity >= 50 and version_similarity == 100:\n",
    "                    return string, name_similarity, version_similarity\n",
    "        else:\n",
    "            return None, 0, 0\n",
    "    else:\n",
    "        return None, 0, 0\n",
    "\n",
    "dir_list = [\n",
    "    \"lib_poetry 1.12_src\",\n",
    "    \"allan_poe 1.12.2\",\n",
    "    \"poetry-dev 1.12.1_src\",\n",
    "    \"poetry v1.12.2_src\",\n",
    "    \"edgar allan poetry\",\n",
    "    \"poetry 2.43.1\",\n",
    "    \"chardet-3.0.4\"\n",
    "]\n",
    "\n",
    "result, name_similarity, version_similarity = detect_name(\"Fengww2014-chardet-3.0.4\", dir_list)\n",
    "if result is not None:\n",
    "    print(f\"Found match: {result}, Name Similarity: {name_similarity}, Version Similarity: {version_similarity}\")\n",
    "else:\n",
    "    print(\"No match found.\")\n"
   ]
  },
  {
   "cell_type": "code",
   "execution_count": null,
   "id": "0bd0d91c",
   "metadata": {},
   "outputs": [],
   "source": []
  }
 ],
 "metadata": {
  "kernelspec": {
   "display_name": "Python 3 (ipykernel)",
   "language": "python",
   "name": "python3"
  },
  "language_info": {
   "codemirror_mode": {
    "name": "ipython",
    "version": 3
   },
   "file_extension": ".py",
   "mimetype": "text/x-python",
   "name": "python",
   "nbconvert_exporter": "python",
   "pygments_lexer": "ipython3",
   "version": "3.10.9"
  }
 },
 "nbformat": 4,
 "nbformat_minor": 5
}
